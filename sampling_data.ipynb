{
 "cells": [
  {
   "cell_type": "code",
   "execution_count": 1,
   "id": "8fc19fa9",
   "metadata": {},
   "outputs": [],
   "source": [
    "import json\n",
    "import time\n",
    "import numpy as np\n",
    "import pandas as pd\n"
   ]
  },
  {
   "cell_type": "code",
   "execution_count": 2,
   "id": "suffering-pillow",
   "metadata": {},
   "outputs": [
    {
     "name": "stdout",
     "output_type": "stream",
     "text": [
      "106.21423196792603\n"
     ]
    }
   ],
   "source": [
    "fname = \"./goodreads_interactions.csv\"\n",
    "start = time.time()\n",
    "interactions = pd.read_csv(fname)\n",
    "\n",
    "interactions = interactions.rename(columns={\"book_id\":\"book_id_csv\"})\n",
    "print(time.time() - start)\n",
    "\n"
   ]
  },
  {
   "cell_type": "code",
   "execution_count": 3,
   "id": "compact-wheel",
   "metadata": {},
   "outputs": [
    {
     "name": "stdout",
     "output_type": "stream",
     "text": [
      "0\n",
      "2360649\n",
      "(228648342, 5)\n"
     ]
    },
    {
     "data": {
      "text/html": [
       "<div>\n",
       "<style scoped>\n",
       "    .dataframe tbody tr th:only-of-type {\n",
       "        vertical-align: middle;\n",
       "    }\n",
       "\n",
       "    .dataframe tbody tr th {\n",
       "        vertical-align: top;\n",
       "    }\n",
       "\n",
       "    .dataframe thead th {\n",
       "        text-align: right;\n",
       "    }\n",
       "</style>\n",
       "<table border=\"1\" class=\"dataframe\">\n",
       "  <thead>\n",
       "    <tr style=\"text-align: right;\">\n",
       "      <th></th>\n",
       "      <th>user_id</th>\n",
       "      <th>book_id_csv</th>\n",
       "      <th>rating</th>\n",
       "    </tr>\n",
       "  </thead>\n",
       "  <tbody>\n",
       "    <tr>\n",
       "      <th>0</th>\n",
       "      <td>0</td>\n",
       "      <td>948</td>\n",
       "      <td>5</td>\n",
       "    </tr>\n",
       "    <tr>\n",
       "      <th>1</th>\n",
       "      <td>0</td>\n",
       "      <td>947</td>\n",
       "      <td>5</td>\n",
       "    </tr>\n",
       "    <tr>\n",
       "      <th>2</th>\n",
       "      <td>0</td>\n",
       "      <td>946</td>\n",
       "      <td>5</td>\n",
       "    </tr>\n",
       "    <tr>\n",
       "      <th>3</th>\n",
       "      <td>0</td>\n",
       "      <td>945</td>\n",
       "      <td>5</td>\n",
       "    </tr>\n",
       "    <tr>\n",
       "      <th>4</th>\n",
       "      <td>0</td>\n",
       "      <td>944</td>\n",
       "      <td>5</td>\n",
       "    </tr>\n",
       "    <tr>\n",
       "      <th>...</th>\n",
       "      <td>...</td>\n",
       "      <td>...</td>\n",
       "      <td>...</td>\n",
       "    </tr>\n",
       "    <tr>\n",
       "      <th>228648336</th>\n",
       "      <td>876144</td>\n",
       "      <td>367428</td>\n",
       "      <td>3</td>\n",
       "    </tr>\n",
       "    <tr>\n",
       "      <th>228648338</th>\n",
       "      <td>876144</td>\n",
       "      <td>23847</td>\n",
       "      <td>4</td>\n",
       "    </tr>\n",
       "    <tr>\n",
       "      <th>228648339</th>\n",
       "      <td>876144</td>\n",
       "      <td>23950</td>\n",
       "      <td>3</td>\n",
       "    </tr>\n",
       "    <tr>\n",
       "      <th>228648340</th>\n",
       "      <td>876144</td>\n",
       "      <td>374106</td>\n",
       "      <td>5</td>\n",
       "    </tr>\n",
       "    <tr>\n",
       "      <th>228648341</th>\n",
       "      <td>876144</td>\n",
       "      <td>351607</td>\n",
       "      <td>5</td>\n",
       "    </tr>\n",
       "  </tbody>\n",
       "</table>\n",
       "<p>104551549 rows × 3 columns</p>\n",
       "</div>"
      ],
      "text/plain": [
       "           user_id  book_id_csv  rating\n",
       "0                0          948       5\n",
       "1                0          947       5\n",
       "2                0          946       5\n",
       "3                0          945       5\n",
       "4                0          944       5\n",
       "...            ...          ...     ...\n",
       "228648336   876144       367428       3\n",
       "228648338   876144        23847       4\n",
       "228648339   876144        23950       3\n",
       "228648340   876144       374106       5\n",
       "228648341   876144       351607       5\n",
       "\n",
       "[104551549 rows x 3 columns]"
      ]
     },
     "execution_count": 3,
     "metadata": {},
     "output_type": "execute_result"
    }
   ],
   "source": [
    "interactions_book_ids = set(interactions[\"book_id_csv\"].unique())\n",
    "\n",
    "print(min(interactions_book_ids))\n",
    "print(max(interactions_book_ids))\n",
    "print(interactions.shape)\n",
    "# interactions1 = interactions[(interactions.is_read > 0) & (interactions.is_reviewed > 0)]\n",
    "interactions = interactions[(interactions.rating > 0)]\n",
    "interactions = interactions.drop(['is_reviewed', 'is_read'], axis=1)\n",
    "# interactions3 = interactions[(interactions.is_read > 0) & (interactions.is_reviewed > 0) & (interactions.rating > 0)]\n",
    "# print(interactions1.shape)\n",
    "# print(interactions2.shape)\n",
    "# print(interactions2.shape)\n",
    "# print(interactions3.shape)"
   ]
  },
  {
   "cell_type": "code",
   "execution_count": 11,
   "id": "7212bed3",
   "metadata": {},
   "outputs": [
    {
     "name": "stdout",
     "output_type": "stream",
     "text": [
      "152.16972398757935\n"
     ]
    }
   ],
   "source": [
    "fname = './goodreads_books.json'\n",
    "from io import StringIO\n",
    "from csv import writer \n",
    "\n",
    "output = StringIO()\n",
    "csv_writer = writer(output)\n",
    "i = 0\n",
    "bad = []\n",
    "start = time.time()\n",
    "f = open(fname)\n",
    "for line in f:\n",
    "    try:\n",
    "        s = json.loads(line)\n",
    "    except json.JSONDecodeError:\n",
    "        bad.append(line)\n",
    "        continue\n",
    "#     if(i % 100000 == 0):\n",
    "#         print(i)\n",
    "    book_id = s[\"book_id\"]\n",
    "    title = s['title']\n",
    "    authors = s['authors']\n",
    "    average_rating = s['average_rating']\n",
    "    image_url = s['image_url']\n",
    "    num_pages = s['num_pages']\n",
    "    publisher = s['publisher']\n",
    "    publication_year = s['publication_year']\n",
    "    ratings_count = s['ratings_count']\n",
    "    language_code = s['language_code']\n",
    "    csv_writer.writerow([book_id, title, authors, language_code, average_rating, image_url, num_pages, publisher, publication_year, ratings_count])\n",
    "    i = i + 1\n",
    "\n",
    "output.seek(0) # we need to get back to the start of the BytesIO\n",
    "books = pd.read_csv(output, header=None)\n",
    "books.columns = ['book_id', 'title', 'authors', 'language_code', 'average_rating', 'image_url', 'num_pages', 'publisher', 'publication_year', 'ratings_count']\n",
    "f.close()\n",
    "books.to_csv(\"books.csv\")\n",
    "print(time.time() - start)\n"
   ]
  },
  {
   "cell_type": "code",
   "execution_count": 5,
   "id": "adjacent-ontario",
   "metadata": {},
   "outputs": [
    {
     "name": "stdout",
     "output_type": "stream",
     "text": [
      "0.5779259204864502\n"
     ]
    }
   ],
   "source": [
    "fname = \"./book_id_map.csv\"\n",
    "start = time.time()\n",
    "book_id_map = pd.read_csv(fname)\n",
    "print(time.time() - start)"
   ]
  },
  {
   "cell_type": "code",
   "execution_count": 6,
   "id": "partial-appraisal",
   "metadata": {},
   "outputs": [
    {
     "ename": "NameError",
     "evalue": "name 'books' is not defined",
     "output_type": "error",
     "traceback": [
      "\u001b[0;31m---------------------------------------------------------------------------\u001b[0m",
      "\u001b[0;31mNameError\u001b[0m                                 Traceback (most recent call last)",
      "\u001b[0;32m<ipython-input-6-304bd61d1e7e>\u001b[0m in \u001b[0;36m<module>\u001b[0;34m\u001b[0m\n\u001b[0;32m----> 1\u001b[0;31m \u001b[0mbooks_book_ids\u001b[0m \u001b[0;34m=\u001b[0m \u001b[0mset\u001b[0m\u001b[0;34m(\u001b[0m\u001b[0mbooks\u001b[0m\u001b[0;34m[\u001b[0m\u001b[0;34m\"book_id\"\u001b[0m\u001b[0;34m]\u001b[0m\u001b[0;34m.\u001b[0m\u001b[0munique\u001b[0m\u001b[0;34m(\u001b[0m\u001b[0;34m)\u001b[0m\u001b[0;34m)\u001b[0m\u001b[0;34m\u001b[0m\u001b[0;34m\u001b[0m\u001b[0m\n\u001b[0m\u001b[1;32m      2\u001b[0m \u001b[0mprint\u001b[0m\u001b[0;34m(\u001b[0m\u001b[0mmin\u001b[0m\u001b[0;34m(\u001b[0m\u001b[0mbooks_book_ids\u001b[0m\u001b[0;34m)\u001b[0m\u001b[0;34m)\u001b[0m\u001b[0;34m\u001b[0m\u001b[0;34m\u001b[0m\u001b[0m\n\u001b[1;32m      3\u001b[0m \u001b[0mprint\u001b[0m\u001b[0;34m(\u001b[0m\u001b[0mmax\u001b[0m\u001b[0;34m(\u001b[0m\u001b[0mbooks_book_ids\u001b[0m\u001b[0;34m)\u001b[0m\u001b[0;34m)\u001b[0m\u001b[0;34m\u001b[0m\u001b[0;34m\u001b[0m\u001b[0m\n\u001b[1;32m      4\u001b[0m \u001b[0mprint\u001b[0m\u001b[0;34m(\u001b[0m\u001b[0mlen\u001b[0m\u001b[0;34m(\u001b[0m\u001b[0mbooks_book_ids\u001b[0m\u001b[0;34m)\u001b[0m\u001b[0;34m)\u001b[0m\u001b[0;34m\u001b[0m\u001b[0;34m\u001b[0m\u001b[0m\n\u001b[1;32m      5\u001b[0m \u001b[0mbooks\u001b[0m\u001b[0;34m.\u001b[0m\u001b[0mhead\u001b[0m\u001b[0;34m(\u001b[0m\u001b[0;34m)\u001b[0m\u001b[0;34m\u001b[0m\u001b[0;34m\u001b[0m\u001b[0m\n",
      "\u001b[0;31mNameError\u001b[0m: name 'books' is not defined"
     ]
    }
   ],
   "source": [
    "books_book_ids = set(books[\"book_id\"].unique())\n",
    "print(min(books_book_ids))\n",
    "print(max(books_book_ids))\n",
    "print(len(books_book_ids))\n",
    "books.head()"
   ]
  },
  {
   "cell_type": "code",
   "execution_count": 36,
   "id": "confidential-hydrogen",
   "metadata": {},
   "outputs": [
    {
     "name": "stdout",
     "output_type": "stream",
     "text": [
      "0\n",
      "2360649\n",
      "2325541\n"
     ]
    },
    {
     "data": {
      "text/html": [
       "<div>\n",
       "<style scoped>\n",
       "    .dataframe tbody tr th:only-of-type {\n",
       "        vertical-align: middle;\n",
       "    }\n",
       "\n",
       "    .dataframe tbody tr th {\n",
       "        vertical-align: top;\n",
       "    }\n",
       "\n",
       "    .dataframe thead th {\n",
       "        text-align: right;\n",
       "    }\n",
       "</style>\n",
       "<table border=\"1\" class=\"dataframe\">\n",
       "  <thead>\n",
       "    <tr style=\"text-align: right;\">\n",
       "      <th></th>\n",
       "      <th>user_id</th>\n",
       "      <th>book_id_csv</th>\n",
       "      <th>is_read</th>\n",
       "      <th>rating</th>\n",
       "      <th>is_reviewed</th>\n",
       "    </tr>\n",
       "  </thead>\n",
       "  <tbody>\n",
       "    <tr>\n",
       "      <th>0</th>\n",
       "      <td>0</td>\n",
       "      <td>948</td>\n",
       "      <td>1</td>\n",
       "      <td>5</td>\n",
       "      <td>0</td>\n",
       "    </tr>\n",
       "    <tr>\n",
       "      <th>1</th>\n",
       "      <td>0</td>\n",
       "      <td>947</td>\n",
       "      <td>1</td>\n",
       "      <td>5</td>\n",
       "      <td>1</td>\n",
       "    </tr>\n",
       "    <tr>\n",
       "      <th>2</th>\n",
       "      <td>0</td>\n",
       "      <td>946</td>\n",
       "      <td>1</td>\n",
       "      <td>5</td>\n",
       "      <td>0</td>\n",
       "    </tr>\n",
       "    <tr>\n",
       "      <th>3</th>\n",
       "      <td>0</td>\n",
       "      <td>945</td>\n",
       "      <td>1</td>\n",
       "      <td>5</td>\n",
       "      <td>0</td>\n",
       "    </tr>\n",
       "    <tr>\n",
       "      <th>4</th>\n",
       "      <td>0</td>\n",
       "      <td>944</td>\n",
       "      <td>1</td>\n",
       "      <td>5</td>\n",
       "      <td>0</td>\n",
       "    </tr>\n",
       "  </tbody>\n",
       "</table>\n",
       "</div>"
      ],
      "text/plain": [
       "   user_id  book_id_csv  is_read  rating  is_reviewed\n",
       "0        0          948        1       5            0\n",
       "1        0          947        1       5            1\n",
       "2        0          946        1       5            0\n",
       "3        0          945        1       5            0\n",
       "4        0          944        1       5            0"
      ]
     },
     "execution_count": 36,
     "metadata": {},
     "output_type": "execute_result"
    }
   ],
   "source": [
    "interactions_book_ids = set(interactions[\"book_id_csv\"].unique())\n",
    "print(min(interactions_book_ids))\n",
    "print(max(interactions_book_ids))\n",
    "print(len(interactions_book_ids))\n",
    "interactions.head()"
   ]
  },
  {
   "cell_type": "code",
   "execution_count": 63,
   "id": "collectible-vocabulary",
   "metadata": {},
   "outputs": [
    {
     "name": "stdout",
     "output_type": "stream",
     "text": [
      "0\n",
      "2360649\n",
      "2360650\n",
      "1\n",
      "36530431\n",
      "2360650\n"
     ]
    },
    {
     "data": {
      "text/html": [
       "<div>\n",
       "<style scoped>\n",
       "    .dataframe tbody tr th:only-of-type {\n",
       "        vertical-align: middle;\n",
       "    }\n",
       "\n",
       "    .dataframe tbody tr th {\n",
       "        vertical-align: top;\n",
       "    }\n",
       "\n",
       "    .dataframe thead th {\n",
       "        text-align: right;\n",
       "    }\n",
       "</style>\n",
       "<table border=\"1\" class=\"dataframe\">\n",
       "  <thead>\n",
       "    <tr style=\"text-align: right;\">\n",
       "      <th></th>\n",
       "      <th>book_id_csv</th>\n",
       "      <th>book_id</th>\n",
       "    </tr>\n",
       "  </thead>\n",
       "  <tbody>\n",
       "    <tr>\n",
       "      <th>0</th>\n",
       "      <td>0</td>\n",
       "      <td>34684622</td>\n",
       "    </tr>\n",
       "    <tr>\n",
       "      <th>1</th>\n",
       "      <td>1</td>\n",
       "      <td>34536488</td>\n",
       "    </tr>\n",
       "    <tr>\n",
       "      <th>2</th>\n",
       "      <td>2</td>\n",
       "      <td>34017076</td>\n",
       "    </tr>\n",
       "    <tr>\n",
       "      <th>3</th>\n",
       "      <td>3</td>\n",
       "      <td>71730</td>\n",
       "    </tr>\n",
       "    <tr>\n",
       "      <th>4</th>\n",
       "      <td>4</td>\n",
       "      <td>30422361</td>\n",
       "    </tr>\n",
       "  </tbody>\n",
       "</table>\n",
       "</div>"
      ],
      "text/plain": [
       "   book_id_csv   book_id\n",
       "0            0  34684622\n",
       "1            1  34536488\n",
       "2            2  34017076\n",
       "3            3     71730\n",
       "4            4  30422361"
      ]
     },
     "execution_count": 63,
     "metadata": {},
     "output_type": "execute_result"
    }
   ],
   "source": [
    "book_id_map_id_csv = set(book_id_map[\"book_id_csv\"].unique())\n",
    "book_id_map_id = set(book_id_map[\"book_id\"].unique())\n",
    "print(min(book_id_map_id_csv))\n",
    "print(max(book_id_map_id_csv))\n",
    "print(len(book_id_map_id_csv))\n",
    "print(min(book_id_map_id))\n",
    "print(max(book_id_map_id))\n",
    "print(len(book_id_map_id))\n",
    "book_id_map.head()"
   ]
  },
  {
   "cell_type": "code",
   "execution_count": 7,
   "id": "timely-riding",
   "metadata": {},
   "outputs": [
    {
     "name": "stdout",
     "output_type": "stream",
     "text": [
      "104551549\n"
     ]
    }
   ],
   "source": [
    "interactions1 = pd.merge(interactions, book_id_map, on=\"book_id_csv\")\n",
    "print(len(interactions1))"
   ]
  },
  {
   "cell_type": "code",
   "execution_count": 9,
   "id": "attractive-assistant",
   "metadata": {},
   "outputs": [
    {
     "data": {
      "text/html": [
       "<div>\n",
       "<style scoped>\n",
       "    .dataframe tbody tr th:only-of-type {\n",
       "        vertical-align: middle;\n",
       "    }\n",
       "\n",
       "    .dataframe tbody tr th {\n",
       "        vertical-align: top;\n",
       "    }\n",
       "\n",
       "    .dataframe thead th {\n",
       "        text-align: right;\n",
       "    }\n",
       "</style>\n",
       "<table border=\"1\" class=\"dataframe\">\n",
       "  <thead>\n",
       "    <tr style=\"text-align: right;\">\n",
       "      <th></th>\n",
       "      <th>user_id</th>\n",
       "      <th>rating</th>\n",
       "      <th>book_id</th>\n",
       "    </tr>\n",
       "  </thead>\n",
       "  <tbody>\n",
       "    <tr>\n",
       "      <th>0</th>\n",
       "      <td>0</td>\n",
       "      <td>5</td>\n",
       "      <td>12</td>\n",
       "    </tr>\n",
       "    <tr>\n",
       "      <th>1</th>\n",
       "      <td>201</td>\n",
       "      <td>3</td>\n",
       "      <td>12</td>\n",
       "    </tr>\n",
       "    <tr>\n",
       "      <th>2</th>\n",
       "      <td>339</td>\n",
       "      <td>3</td>\n",
       "      <td>12</td>\n",
       "    </tr>\n",
       "    <tr>\n",
       "      <th>3</th>\n",
       "      <td>683</td>\n",
       "      <td>5</td>\n",
       "      <td>12</td>\n",
       "    </tr>\n",
       "    <tr>\n",
       "      <th>4</th>\n",
       "      <td>1872</td>\n",
       "      <td>3</td>\n",
       "      <td>12</td>\n",
       "    </tr>\n",
       "  </tbody>\n",
       "</table>\n",
       "</div>"
      ],
      "text/plain": [
       "   user_id  rating  book_id\n",
       "0        0       5       12\n",
       "1      201       3       12\n",
       "2      339       3       12\n",
       "3      683       5       12\n",
       "4     1872       3       12"
      ]
     },
     "execution_count": 9,
     "metadata": {},
     "output_type": "execute_result"
    }
   ],
   "source": [
    "interactions1 = interactions1.drop(['is_reviewed', 'is_read', 'book_id_csv'], axis=1)\n",
    "interactions1.head()"
   ]
  },
  {
   "cell_type": "code",
   "execution_count": 10,
   "id": "adolescent-flashing",
   "metadata": {},
   "outputs": [],
   "source": [
    "# ratings_full includes all rows for ratings > 0 even if is_reviewd flag is set to 0\n",
    "interactions1.to_csv(\"ratings_full.csv\")"
   ]
  },
  {
   "cell_type": "code",
   "execution_count": 77,
   "id": "genuine-traveler",
   "metadata": {},
   "outputs": [
    {
     "data": {
      "text/html": [
       "<div>\n",
       "<style scoped>\n",
       "    .dataframe tbody tr th:only-of-type {\n",
       "        vertical-align: middle;\n",
       "    }\n",
       "\n",
       "    .dataframe tbody tr th {\n",
       "        vertical-align: top;\n",
       "    }\n",
       "\n",
       "    .dataframe thead th {\n",
       "        text-align: right;\n",
       "    }\n",
       "</style>\n",
       "<table border=\"1\" class=\"dataframe\">\n",
       "  <thead>\n",
       "    <tr style=\"text-align: right;\">\n",
       "      <th></th>\n",
       "      <th>book_id_csv</th>\n",
       "      <th>book_id</th>\n",
       "    </tr>\n",
       "  </thead>\n",
       "  <tbody>\n",
       "    <tr>\n",
       "      <th>947</th>\n",
       "      <td>947</td>\n",
       "      <td>21</td>\n",
       "    </tr>\n",
       "  </tbody>\n",
       "</table>\n",
       "</div>"
      ],
      "text/plain": [
       "     book_id_csv  book_id\n",
       "947          947       21"
      ]
     },
     "execution_count": 77,
     "metadata": {},
     "output_type": "execute_result"
    }
   ],
   "source": [
    "book_id_map[book_id_map['book_id_csv'] == 947]"
   ]
  },
  {
   "cell_type": "code",
   "execution_count": 40,
   "id": "adequate-curtis",
   "metadata": {},
   "outputs": [
    {
     "name": "stdout",
     "output_type": "stream",
     "text": [
      "104551549\n",
      "104551549\n"
     ]
    },
    {
     "data": {
      "text/html": [
       "<div>\n",
       "<style scoped>\n",
       "    .dataframe tbody tr th:only-of-type {\n",
       "        vertical-align: middle;\n",
       "    }\n",
       "\n",
       "    .dataframe tbody tr th {\n",
       "        vertical-align: top;\n",
       "    }\n",
       "\n",
       "    .dataframe thead th {\n",
       "        text-align: right;\n",
       "    }\n",
       "</style>\n",
       "<table border=\"1\" class=\"dataframe\">\n",
       "  <thead>\n",
       "    <tr style=\"text-align: right;\">\n",
       "      <th></th>\n",
       "      <th>user_id</th>\n",
       "      <th>book_id_csv</th>\n",
       "      <th>is_read</th>\n",
       "      <th>rating</th>\n",
       "      <th>is_reviewed</th>\n",
       "    </tr>\n",
       "  </thead>\n",
       "  <tbody>\n",
       "    <tr>\n",
       "      <th>0</th>\n",
       "      <td>0</td>\n",
       "      <td>948</td>\n",
       "      <td>1</td>\n",
       "      <td>5</td>\n",
       "      <td>0</td>\n",
       "    </tr>\n",
       "    <tr>\n",
       "      <th>1</th>\n",
       "      <td>0</td>\n",
       "      <td>947</td>\n",
       "      <td>1</td>\n",
       "      <td>5</td>\n",
       "      <td>1</td>\n",
       "    </tr>\n",
       "    <tr>\n",
       "      <th>2</th>\n",
       "      <td>0</td>\n",
       "      <td>946</td>\n",
       "      <td>1</td>\n",
       "      <td>5</td>\n",
       "      <td>0</td>\n",
       "    </tr>\n",
       "    <tr>\n",
       "      <th>3</th>\n",
       "      <td>0</td>\n",
       "      <td>945</td>\n",
       "      <td>1</td>\n",
       "      <td>5</td>\n",
       "      <td>0</td>\n",
       "    </tr>\n",
       "    <tr>\n",
       "      <th>4</th>\n",
       "      <td>0</td>\n",
       "      <td>944</td>\n",
       "      <td>1</td>\n",
       "      <td>5</td>\n",
       "      <td>0</td>\n",
       "    </tr>\n",
       "  </tbody>\n",
       "</table>\n",
       "</div>"
      ],
      "text/plain": [
       "   user_id  book_id_csv  is_read  rating  is_reviewed\n",
       "0        0          948        1       5            0\n",
       "1        0          947        1       5            1\n",
       "2        0          946        1       5            0\n",
       "3        0          945        1       5            0\n",
       "4        0          944        1       5            0"
      ]
     },
     "execution_count": 40,
     "metadata": {},
     "output_type": "execute_result"
    }
   ],
   "source": [
    "print(len(interactions))\n",
    "print(len(interactions1))\n",
    "interactions1\n",
    "interactions.head()"
   ]
  },
  {
   "cell_type": "code",
   "execution_count": 110,
   "id": "c1a22397",
   "metadata": {},
   "outputs": [
    {
     "name": "stdout",
     "output_type": "stream",
     "text": [
      "[{'author_id': '604031', 'role': ''}, {'author_id': '604032', 'role': ''}]\n"
     ]
    },
    {
     "data": {
      "text/plain": [
       "[\"{'author_id': '604031', 'role': ''}\",\n",
       " \" {'author_id': '604032', 'role': ''}}\"]"
      ]
     },
     "execution_count": 110,
     "metadata": {},
     "output_type": "execute_result"
    }
   ],
   "source": [
    "# len(books['authors']) > 0\n",
    "books['authors'].str.len()\n",
    "# books['authors'] = books['authors'].apply(lambda x: x.strip('][').split('},'))\n",
    "books['authors'] = books['authors'].apply(lambda x: [str(y) + '}' for y in x])\n",
    "# books['authors'] = \n",
    "books.dtypes\n",
    "str1 = books.iat[0, books.columns.get_loc('authors')]\n",
    "str1 = \"[{'author_id': '604031', 'role': ''}, {'author_id': '604032', 'role': ''}]\"\n",
    "\n",
    "print(str1)\n",
    "res = str1.strip('][').split('},')\n",
    "[str(x) + '}' for x in res]"
   ]
  },
  {
   "cell_type": "code",
   "execution_count": 108,
   "id": "wireless-princeton",
   "metadata": {},
   "outputs": [
    {
     "name": "stdout",
     "output_type": "stream",
     "text": [
      "<class 'list'>\n"
     ]
    }
   ],
   "source": [
    "print (type(books.iat[0, books.columns.get_loc('authors')]))"
   ]
  },
  {
   "cell_type": "code",
   "execution_count": 122,
   "id": "functional-analysis",
   "metadata": {},
   "outputs": [
    {
     "data": {
      "text/plain": [
       "\"{'author_id': '4015', 'role': ''}\""
      ]
     },
     "execution_count": 122,
     "metadata": {},
     "output_type": "execute_result"
    }
   ],
   "source": [
    "books.iloc[2360650][\"authors\"][0]"
   ]
  },
  {
   "cell_type": "code",
   "execution_count": 124,
   "id": "informational-lithuania",
   "metadata": {},
   "outputs": [],
   "source": []
  },
  {
   "cell_type": "code",
   "execution_count": null,
   "id": "former-combination",
   "metadata": {},
   "outputs": [],
   "source": []
  }
 ],
 "metadata": {
  "kernelspec": {
   "display_name": "Python 3",
   "language": "python",
   "name": "python3"
  },
  "language_info": {
   "codemirror_mode": {
    "name": "ipython",
    "version": 3
   },
   "file_extension": ".py",
   "mimetype": "text/x-python",
   "name": "python",
   "nbconvert_exporter": "python",
   "pygments_lexer": "ipython3",
   "version": "3.7.4"
  }
 },
 "nbformat": 4,
 "nbformat_minor": 5
}
