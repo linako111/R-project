{
 "cells": [
  {
   "cell_type": "code",
   "execution_count": 1,
   "id": "8fc19fa9",
   "metadata": {},
   "outputs": [],
   "source": [
    "import json\n",
    "import time\n",
    "import numpy as np\n",
    "import pandas as pd\n"
   ]
  },
  {
   "cell_type": "code",
   "execution_count": 2,
   "id": "suffering-pillow",
   "metadata": {},
   "outputs": [
    {
     "name": "stdout",
     "output_type": "stream",
     "text": [
      "106.21423196792603\n"
     ]
    }
   ],
   "source": [
    "fname = \"./goodreads_interactions.csv\"\n",
    "start = time.time()\n",
    "interactions = pd.read_csv(fname)\n",
    "\n",
    "interactions = interactions.rename(columns={\"book_id\":\"book_id_csv\"})\n",
    "print(time.time() - start)"
   ]
  },
  {
   "cell_type": "code",
   "execution_count": 3,
   "id": "compact-wheel",
   "metadata": {},
   "outputs": [
    {
     "name": "stdout",
     "output_type": "stream",
     "text": [
      "0\n",
      "2360649\n",
      "(228648342, 5)\n"
     ]
    },
    {
     "data": {
      "text/html": [
       "<div>\n",
       "<style scoped>\n",
       "    .dataframe tbody tr th:only-of-type {\n",
       "        vertical-align: middle;\n",
       "    }\n",
       "\n",
       "    .dataframe tbody tr th {\n",
       "        vertical-align: top;\n",
       "    }\n",
       "\n",
       "    .dataframe thead th {\n",
       "        text-align: right;\n",
       "    }\n",
       "</style>\n",
       "<table border=\"1\" class=\"dataframe\">\n",
       "  <thead>\n",
       "    <tr style=\"text-align: right;\">\n",
       "      <th></th>\n",
       "      <th>user_id</th>\n",
       "      <th>book_id_csv</th>\n",
       "      <th>rating</th>\n",
       "    </tr>\n",
       "  </thead>\n",
       "  <tbody>\n",
       "    <tr>\n",
       "      <th>0</th>\n",
       "      <td>0</td>\n",
       "      <td>948</td>\n",
       "      <td>5</td>\n",
       "    </tr>\n",
       "    <tr>\n",
       "      <th>1</th>\n",
       "      <td>0</td>\n",
       "      <td>947</td>\n",
       "      <td>5</td>\n",
       "    </tr>\n",
       "    <tr>\n",
       "      <th>2</th>\n",
       "      <td>0</td>\n",
       "      <td>946</td>\n",
       "      <td>5</td>\n",
       "    </tr>\n",
       "    <tr>\n",
       "      <th>3</th>\n",
       "      <td>0</td>\n",
       "      <td>945</td>\n",
       "      <td>5</td>\n",
       "    </tr>\n",
       "    <tr>\n",
       "      <th>4</th>\n",
       "      <td>0</td>\n",
       "      <td>944</td>\n",
       "      <td>5</td>\n",
       "    </tr>\n",
       "    <tr>\n",
       "      <th>...</th>\n",
       "      <td>...</td>\n",
       "      <td>...</td>\n",
       "      <td>...</td>\n",
       "    </tr>\n",
       "    <tr>\n",
       "      <th>228648336</th>\n",
       "      <td>876144</td>\n",
       "      <td>367428</td>\n",
       "      <td>3</td>\n",
       "    </tr>\n",
       "    <tr>\n",
       "      <th>228648338</th>\n",
       "      <td>876144</td>\n",
       "      <td>23847</td>\n",
       "      <td>4</td>\n",
       "    </tr>\n",
       "    <tr>\n",
       "      <th>228648339</th>\n",
       "      <td>876144</td>\n",
       "      <td>23950</td>\n",
       "      <td>3</td>\n",
       "    </tr>\n",
       "    <tr>\n",
       "      <th>228648340</th>\n",
       "      <td>876144</td>\n",
       "      <td>374106</td>\n",
       "      <td>5</td>\n",
       "    </tr>\n",
       "    <tr>\n",
       "      <th>228648341</th>\n",
       "      <td>876144</td>\n",
       "      <td>351607</td>\n",
       "      <td>5</td>\n",
       "    </tr>\n",
       "  </tbody>\n",
       "</table>\n",
       "<p>104551549 rows × 3 columns</p>\n",
       "</div>"
      ],
      "text/plain": [
       "           user_id  book_id_csv  rating\n",
       "0                0          948       5\n",
       "1                0          947       5\n",
       "2                0          946       5\n",
       "3                0          945       5\n",
       "4                0          944       5\n",
       "...            ...          ...     ...\n",
       "228648336   876144       367428       3\n",
       "228648338   876144        23847       4\n",
       "228648339   876144        23950       3\n",
       "228648340   876144       374106       5\n",
       "228648341   876144       351607       5\n",
       "\n",
       "[104551549 rows x 3 columns]"
      ]
     },
     "execution_count": 3,
     "metadata": {},
     "output_type": "execute_result"
    }
   ],
   "source": [
    "interactions_book_ids = set(interactions[\"book_id_csv\"].unique())\n",
    "\n",
    "print(min(interactions_book_ids))\n",
    "print(max(interactions_book_ids))\n",
    "print(interactions.shape)\n",
    "interactions = interactions[(interactions.rating > 0)]\n",
    "interactions = interactions.drop(['is_reviewed', 'is_read'], axis=1)"
   ]
  },
  {
   "cell_type": "code",
   "execution_count": 39,
   "id": "7212bed3",
   "metadata": {},
   "outputs": [
    {
     "name": "stdout",
     "output_type": "stream",
     "text": [
      "151.7220070362091\n"
     ]
    }
   ],
   "source": [
    "fname = './goodreads_books.json'\n",
    "from io import StringIO\n",
    "from csv import writer \n",
    "\n",
    "output = StringIO()\n",
    "csv_writer = writer(output)\n",
    "i = 0\n",
    "bad = []\n",
    "start = time.time()\n",
    "f = open(fname)\n",
    "for line in f:\n",
    "    try:\n",
    "        s = json.loads(line)\n",
    "    except json.JSONDecodeError:\n",
    "        bad.append(line)\n",
    "        continue\n",
    "#     if(i % 100000 == 0):\n",
    "#         print(i)\n",
    "    book_id = s[\"book_id\"]\n",
    "    title = s['title']\n",
    "    authors = s['authors']\n",
    "    average_rating = s['average_rating']\n",
    "    image_url = s['image_url']\n",
    "    num_pages = s['num_pages']\n",
    "    publisher = s['publisher']\n",
    "    publication_year = s['publication_year']\n",
    "    ratings_count = s['ratings_count']\n",
    "    language_code = s['language_code']\n",
    "    csv_writer.writerow([book_id, title, authors, language_code, average_rating, image_url, num_pages, publisher, publication_year, ratings_count])\n",
    "    i = i + 1\n",
    "\n",
    "output.seek(0) # we need to get back to the start of the BytesIO\n",
    "books = pd.read_csv(output, header=None)\n",
    "books.columns = ['book_id', 'title', 'authors', 'language_code', 'average_rating', 'image_url', 'num_pages', 'publisher', 'publication_year', 'ratings_count']\n",
    "f.close()\n",
    "books.to_csv(\"books.csv\")\n",
    "print(time.time() - start)\n"
   ]
  },
  {
   "cell_type": "code",
   "execution_count": 38,
   "id": "cheap-refund",
   "metadata": {},
   "outputs": [
    {
     "name": "stdout",
     "output_type": "stream",
     "text": [
      "20.62133026123047\n"
     ]
    }
   ],
   "source": [
    "fname = 'goodreads_book_genres_initial.json'\n",
    "\n",
    "output = StringIO()\n",
    "csv_writer = writer(output)\n",
    "i = 0\n",
    "bad = []\n",
    "start = time.time()\n",
    "f = open(fname)\n",
    "for line in f:\n",
    "    try:\n",
    "        s = json.loads(line)\n",
    "    except json.JSONDecodeError:\n",
    "        bad.append(line)\n",
    "        continue\n",
    "#     if(i % 100000 == 0):\n",
    "#         print(i)\n",
    "    book_id = s[\"book_id\"]\n",
    "    genres = s['genres']\n",
    "    \n",
    "    csv_writer.writerow([book_id, genres])\n",
    "    i = i + 1\n",
    "\n",
    "output.seek(0) # we need to get back to the start of the BytesIO\n",
    "genres = pd.read_csv(output, header=None)\n",
    "genres.columns = ['book_id', 'genres']\n",
    "f.close()\n",
    "genres.to_csv(\"genres.csv\")\n",
    "print(time.time() - start)\n"
   ]
  },
  {
   "cell_type": "code",
   "execution_count": 45,
   "id": "civil-working",
   "metadata": {},
   "outputs": [],
   "source": [
    "genres.head()\n",
    "import re\n",
    "genres['genres_full'] = genres['genres'].apply(lambda x: re.findall(\"'([^']*)'\", x)) \n",
    "def splitf(item):\n",
    "    lst1 = []\n",
    "    for i in item:\n",
    "        lst1.append(i.split(\",\"))\n",
    "    flat_list = [item for sublist in lst1 for item in sublist]\n",
    "    stripped = [s.strip() for s in flat_list]\n",
    "    return stripped\n",
    "\n",
    "genres['genres_full'] = genres['genres_full'].apply(lambda x: splitf(x))\n",
    "genres['genres_full'] = [','.join(map(str, l)) for l in genres['genres_full']]\n"
   ]
  },
  {
   "cell_type": "code",
   "execution_count": 46,
   "id": "african-concept",
   "metadata": {},
   "outputs": [
    {
     "data": {
      "text/html": [
       "<div>\n",
       "<style scoped>\n",
       "    .dataframe tbody tr th:only-of-type {\n",
       "        vertical-align: middle;\n",
       "    }\n",
       "\n",
       "    .dataframe tbody tr th {\n",
       "        vertical-align: top;\n",
       "    }\n",
       "\n",
       "    .dataframe thead th {\n",
       "        text-align: right;\n",
       "    }\n",
       "</style>\n",
       "<table border=\"1\" class=\"dataframe\">\n",
       "  <thead>\n",
       "    <tr style=\"text-align: right;\">\n",
       "      <th></th>\n",
       "      <th>book_id</th>\n",
       "      <th>genres</th>\n",
       "      <th>genres_full</th>\n",
       "    </tr>\n",
       "  </thead>\n",
       "  <tbody>\n",
       "    <tr>\n",
       "      <th>0</th>\n",
       "      <td>5333265</td>\n",
       "      <td>{'history, historical fiction, biography': 1}</td>\n",
       "      <td>history,historical fiction,biography</td>\n",
       "    </tr>\n",
       "    <tr>\n",
       "      <th>1</th>\n",
       "      <td>1333909</td>\n",
       "      <td>{'fiction': 219, 'history, historical fiction,...</td>\n",
       "      <td>fiction,history,historical fiction,biography</td>\n",
       "    </tr>\n",
       "    <tr>\n",
       "      <th>2</th>\n",
       "      <td>7327624</td>\n",
       "      <td>{'fantasy, paranormal': 31, 'fiction': 8, 'mys...</td>\n",
       "      <td>fantasy,paranormal,fiction,mystery,thriller,cr...</td>\n",
       "    </tr>\n",
       "    <tr>\n",
       "      <th>3</th>\n",
       "      <td>6066819</td>\n",
       "      <td>{'fiction': 555, 'romance': 23, 'mystery, thri...</td>\n",
       "      <td>fiction,romance,mystery,thriller,crime</td>\n",
       "    </tr>\n",
       "    <tr>\n",
       "      <th>4</th>\n",
       "      <td>287140</td>\n",
       "      <td>{'non-fiction': 3}</td>\n",
       "      <td>non-fiction</td>\n",
       "    </tr>\n",
       "    <tr>\n",
       "      <th>...</th>\n",
       "      <td>...</td>\n",
       "      <td>...</td>\n",
       "      <td>...</td>\n",
       "    </tr>\n",
       "    <tr>\n",
       "      <th>2360650</th>\n",
       "      <td>3084038</td>\n",
       "      <td>{'non-fiction': 5, 'history, historical fictio...</td>\n",
       "      <td>non-fiction,history,historical fiction,biography</td>\n",
       "    </tr>\n",
       "    <tr>\n",
       "      <th>2360651</th>\n",
       "      <td>26168430</td>\n",
       "      <td>{'mystery, thriller, crime': 4, 'children': 1,...</td>\n",
       "      <td>mystery,thriller,crime,children,fiction</td>\n",
       "    </tr>\n",
       "    <tr>\n",
       "      <th>2360652</th>\n",
       "      <td>2342551</td>\n",
       "      <td>{'poetry': 14, 'children': 7, 'young-adult': 1...</td>\n",
       "      <td>poetry,children,young-adult,non-fiction</td>\n",
       "    </tr>\n",
       "    <tr>\n",
       "      <th>2360653</th>\n",
       "      <td>22017381</td>\n",
       "      <td>{'romance': 13, 'mystery, thriller, crime': 2}</td>\n",
       "      <td>romance,mystery,thriller,crime</td>\n",
       "    </tr>\n",
       "    <tr>\n",
       "      <th>2360654</th>\n",
       "      <td>11419866</td>\n",
       "      <td>{'romance': 19, 'fiction': 4}</td>\n",
       "      <td>romance,fiction</td>\n",
       "    </tr>\n",
       "  </tbody>\n",
       "</table>\n",
       "<p>2360655 rows × 3 columns</p>\n",
       "</div>"
      ],
      "text/plain": [
       "          book_id                                             genres  \\\n",
       "0         5333265      {'history, historical fiction, biography': 1}   \n",
       "1         1333909  {'fiction': 219, 'history, historical fiction,...   \n",
       "2         7327624  {'fantasy, paranormal': 31, 'fiction': 8, 'mys...   \n",
       "3         6066819  {'fiction': 555, 'romance': 23, 'mystery, thri...   \n",
       "4          287140                                 {'non-fiction': 3}   \n",
       "...           ...                                                ...   \n",
       "2360650   3084038  {'non-fiction': 5, 'history, historical fictio...   \n",
       "2360651  26168430  {'mystery, thriller, crime': 4, 'children': 1,...   \n",
       "2360652   2342551  {'poetry': 14, 'children': 7, 'young-adult': 1...   \n",
       "2360653  22017381     {'romance': 13, 'mystery, thriller, crime': 2}   \n",
       "2360654  11419866                      {'romance': 19, 'fiction': 4}   \n",
       "\n",
       "                                               genres_full  \n",
       "0                     history,historical fiction,biography  \n",
       "1             fiction,history,historical fiction,biography  \n",
       "2        fantasy,paranormal,fiction,mystery,thriller,cr...  \n",
       "3                   fiction,romance,mystery,thriller,crime  \n",
       "4                                              non-fiction  \n",
       "...                                                    ...  \n",
       "2360650   non-fiction,history,historical fiction,biography  \n",
       "2360651            mystery,thriller,crime,children,fiction  \n",
       "2360652            poetry,children,young-adult,non-fiction  \n",
       "2360653                     romance,mystery,thriller,crime  \n",
       "2360654                                    romance,fiction  \n",
       "\n",
       "[2360655 rows x 3 columns]"
      ]
     },
     "execution_count": 46,
     "metadata": {},
     "output_type": "execute_result"
    }
   ],
   "source": [
    "genres\n"
   ]
  },
  {
   "cell_type": "code",
   "execution_count": 47,
   "id": "female-apparel",
   "metadata": {},
   "outputs": [],
   "source": [
    "book_genres = pd.merge(books, genres, on=\"book_id\")"
   ]
  },
  {
   "cell_type": "code",
   "execution_count": 52,
   "id": "aggregate-disclaimer",
   "metadata": {},
   "outputs": [],
   "source": [
    "book_genres = book_genres[['book_id','average_rating', 'ratings_count', 'genres_full']]"
   ]
  },
  {
   "cell_type": "code",
   "execution_count": 54,
   "id": "hydraulic-boring",
   "metadata": {},
   "outputs": [],
   "source": [
    "book_genres.to_csv('book_genres.csv')"
   ]
  },
  {
   "cell_type": "code",
   "execution_count": 5,
   "id": "adjacent-ontario",
   "metadata": {},
   "outputs": [
    {
     "name": "stdout",
     "output_type": "stream",
     "text": [
      "0.5779259204864502\n"
     ]
    }
   ],
   "source": [
    "fname = \"./book_id_map.csv\"\n",
    "start = time.time()\n",
    "book_id_map = pd.read_csv(fname)\n",
    "print(time.time() - start)"
   ]
  },
  {
   "cell_type": "code",
   "execution_count": 41,
   "id": "partial-appraisal",
   "metadata": {},
   "outputs": [
    {
     "name": "stdout",
     "output_type": "stream",
     "text": [
      "1\n",
      "36530431\n",
      "2360655\n"
     ]
    },
    {
     "data": {
      "text/html": [
       "<div>\n",
       "<style scoped>\n",
       "    .dataframe tbody tr th:only-of-type {\n",
       "        vertical-align: middle;\n",
       "    }\n",
       "\n",
       "    .dataframe tbody tr th {\n",
       "        vertical-align: top;\n",
       "    }\n",
       "\n",
       "    .dataframe thead th {\n",
       "        text-align: right;\n",
       "    }\n",
       "</style>\n",
       "<table border=\"1\" class=\"dataframe\">\n",
       "  <thead>\n",
       "    <tr style=\"text-align: right;\">\n",
       "      <th></th>\n",
       "      <th>book_id_csv</th>\n",
       "      <th>book_id</th>\n",
       "    </tr>\n",
       "  </thead>\n",
       "  <tbody>\n",
       "    <tr>\n",
       "      <th>0</th>\n",
       "      <td>0</td>\n",
       "      <td>34684622</td>\n",
       "    </tr>\n",
       "    <tr>\n",
       "      <th>1</th>\n",
       "      <td>1</td>\n",
       "      <td>34536488</td>\n",
       "    </tr>\n",
       "    <tr>\n",
       "      <th>2</th>\n",
       "      <td>2</td>\n",
       "      <td>34017076</td>\n",
       "    </tr>\n",
       "    <tr>\n",
       "      <th>3</th>\n",
       "      <td>3</td>\n",
       "      <td>71730</td>\n",
       "    </tr>\n",
       "    <tr>\n",
       "      <th>4</th>\n",
       "      <td>4</td>\n",
       "      <td>30422361</td>\n",
       "    </tr>\n",
       "  </tbody>\n",
       "</table>\n",
       "</div>"
      ],
      "text/plain": [
       "   book_id_csv   book_id\n",
       "0            0  34684622\n",
       "1            1  34536488\n",
       "2            2  34017076\n",
       "3            3     71730\n",
       "4            4  30422361"
      ]
     },
     "execution_count": 41,
     "metadata": {},
     "output_type": "execute_result"
    }
   ],
   "source": [
    "books_book_ids = set(books[\"book_id\"].unique())\n",
    "print(min(books_book_ids))\n",
    "print(max(books_book_ids))\n",
    "print(len(books_book_ids))\n",
    "book_id_map.head()"
   ]
  },
  {
   "cell_type": "code",
   "execution_count": 43,
   "id": "downtown-frontier",
   "metadata": {},
   "outputs": [
    {
     "name": "stdout",
     "output_type": "stream",
     "text": [
      "1\n",
      "36530431\n",
      "2360655\n"
     ]
    },
    {
     "data": {
      "text/html": [
       "<div>\n",
       "<style scoped>\n",
       "    .dataframe tbody tr th:only-of-type {\n",
       "        vertical-align: middle;\n",
       "    }\n",
       "\n",
       "    .dataframe tbody tr th {\n",
       "        vertical-align: top;\n",
       "    }\n",
       "\n",
       "    .dataframe thead th {\n",
       "        text-align: right;\n",
       "    }\n",
       "</style>\n",
       "<table border=\"1\" class=\"dataframe\">\n",
       "  <thead>\n",
       "    <tr style=\"text-align: right;\">\n",
       "      <th></th>\n",
       "      <th>book_id</th>\n",
       "      <th>genres</th>\n",
       "    </tr>\n",
       "  </thead>\n",
       "  <tbody>\n",
       "    <tr>\n",
       "      <th>0</th>\n",
       "      <td>5333265</td>\n",
       "      <td>{'history, historical fiction, biography': 1}</td>\n",
       "    </tr>\n",
       "    <tr>\n",
       "      <th>1</th>\n",
       "      <td>1333909</td>\n",
       "      <td>{'fiction': 219, 'history, historical fiction,...</td>\n",
       "    </tr>\n",
       "    <tr>\n",
       "      <th>2</th>\n",
       "      <td>7327624</td>\n",
       "      <td>{'fantasy, paranormal': 31, 'fiction': 8, 'mys...</td>\n",
       "    </tr>\n",
       "    <tr>\n",
       "      <th>3</th>\n",
       "      <td>6066819</td>\n",
       "      <td>{'fiction': 555, 'romance': 23, 'mystery, thri...</td>\n",
       "    </tr>\n",
       "    <tr>\n",
       "      <th>4</th>\n",
       "      <td>287140</td>\n",
       "      <td>{'non-fiction': 3}</td>\n",
       "    </tr>\n",
       "  </tbody>\n",
       "</table>\n",
       "</div>"
      ],
      "text/plain": [
       "   book_id                                             genres\n",
       "0  5333265      {'history, historical fiction, biography': 1}\n",
       "1  1333909  {'fiction': 219, 'history, historical fiction,...\n",
       "2  7327624  {'fantasy, paranormal': 31, 'fiction': 8, 'mys...\n",
       "3  6066819  {'fiction': 555, 'romance': 23, 'mystery, thri...\n",
       "4   287140                                 {'non-fiction': 3}"
      ]
     },
     "execution_count": 43,
     "metadata": {},
     "output_type": "execute_result"
    }
   ],
   "source": [
    "books_genres_ids = set(genres[\"book_id\"].unique())\n",
    "print(min(books_genres_ids))\n",
    "print(max(books_genres_ids))\n",
    "print(len(books_genres_ids))\n",
    "genres.head()"
   ]
  },
  {
   "cell_type": "code",
   "execution_count": 36,
   "id": "confidential-hydrogen",
   "metadata": {},
   "outputs": [
    {
     "name": "stdout",
     "output_type": "stream",
     "text": [
      "0\n",
      "2360649\n",
      "2325541\n"
     ]
    },
    {
     "data": {
      "text/html": [
       "<div>\n",
       "<style scoped>\n",
       "    .dataframe tbody tr th:only-of-type {\n",
       "        vertical-align: middle;\n",
       "    }\n",
       "\n",
       "    .dataframe tbody tr th {\n",
       "        vertical-align: top;\n",
       "    }\n",
       "\n",
       "    .dataframe thead th {\n",
       "        text-align: right;\n",
       "    }\n",
       "</style>\n",
       "<table border=\"1\" class=\"dataframe\">\n",
       "  <thead>\n",
       "    <tr style=\"text-align: right;\">\n",
       "      <th></th>\n",
       "      <th>user_id</th>\n",
       "      <th>book_id_csv</th>\n",
       "      <th>is_read</th>\n",
       "      <th>rating</th>\n",
       "      <th>is_reviewed</th>\n",
       "    </tr>\n",
       "  </thead>\n",
       "  <tbody>\n",
       "    <tr>\n",
       "      <th>0</th>\n",
       "      <td>0</td>\n",
       "      <td>948</td>\n",
       "      <td>1</td>\n",
       "      <td>5</td>\n",
       "      <td>0</td>\n",
       "    </tr>\n",
       "    <tr>\n",
       "      <th>1</th>\n",
       "      <td>0</td>\n",
       "      <td>947</td>\n",
       "      <td>1</td>\n",
       "      <td>5</td>\n",
       "      <td>1</td>\n",
       "    </tr>\n",
       "    <tr>\n",
       "      <th>2</th>\n",
       "      <td>0</td>\n",
       "      <td>946</td>\n",
       "      <td>1</td>\n",
       "      <td>5</td>\n",
       "      <td>0</td>\n",
       "    </tr>\n",
       "    <tr>\n",
       "      <th>3</th>\n",
       "      <td>0</td>\n",
       "      <td>945</td>\n",
       "      <td>1</td>\n",
       "      <td>5</td>\n",
       "      <td>0</td>\n",
       "    </tr>\n",
       "    <tr>\n",
       "      <th>4</th>\n",
       "      <td>0</td>\n",
       "      <td>944</td>\n",
       "      <td>1</td>\n",
       "      <td>5</td>\n",
       "      <td>0</td>\n",
       "    </tr>\n",
       "  </tbody>\n",
       "</table>\n",
       "</div>"
      ],
      "text/plain": [
       "   user_id  book_id_csv  is_read  rating  is_reviewed\n",
       "0        0          948        1       5            0\n",
       "1        0          947        1       5            1\n",
       "2        0          946        1       5            0\n",
       "3        0          945        1       5            0\n",
       "4        0          944        1       5            0"
      ]
     },
     "execution_count": 36,
     "metadata": {},
     "output_type": "execute_result"
    }
   ],
   "source": [
    "interactions_book_ids = set(interactions[\"book_id_csv\"].unique())\n",
    "print(min(interactions_book_ids))\n",
    "print(max(interactions_book_ids))\n",
    "print(len(interactions_book_ids))\n",
    "interactions.head()"
   ]
  },
  {
   "cell_type": "code",
   "execution_count": 63,
   "id": "collectible-vocabulary",
   "metadata": {},
   "outputs": [
    {
     "name": "stdout",
     "output_type": "stream",
     "text": [
      "0\n",
      "2360649\n",
      "2360650\n",
      "1\n",
      "36530431\n",
      "2360650\n"
     ]
    },
    {
     "data": {
      "text/html": [
       "<div>\n",
       "<style scoped>\n",
       "    .dataframe tbody tr th:only-of-type {\n",
       "        vertical-align: middle;\n",
       "    }\n",
       "\n",
       "    .dataframe tbody tr th {\n",
       "        vertical-align: top;\n",
       "    }\n",
       "\n",
       "    .dataframe thead th {\n",
       "        text-align: right;\n",
       "    }\n",
       "</style>\n",
       "<table border=\"1\" class=\"dataframe\">\n",
       "  <thead>\n",
       "    <tr style=\"text-align: right;\">\n",
       "      <th></th>\n",
       "      <th>book_id_csv</th>\n",
       "      <th>book_id</th>\n",
       "    </tr>\n",
       "  </thead>\n",
       "  <tbody>\n",
       "    <tr>\n",
       "      <th>0</th>\n",
       "      <td>0</td>\n",
       "      <td>34684622</td>\n",
       "    </tr>\n",
       "    <tr>\n",
       "      <th>1</th>\n",
       "      <td>1</td>\n",
       "      <td>34536488</td>\n",
       "    </tr>\n",
       "    <tr>\n",
       "      <th>2</th>\n",
       "      <td>2</td>\n",
       "      <td>34017076</td>\n",
       "    </tr>\n",
       "    <tr>\n",
       "      <th>3</th>\n",
       "      <td>3</td>\n",
       "      <td>71730</td>\n",
       "    </tr>\n",
       "    <tr>\n",
       "      <th>4</th>\n",
       "      <td>4</td>\n",
       "      <td>30422361</td>\n",
       "    </tr>\n",
       "  </tbody>\n",
       "</table>\n",
       "</div>"
      ],
      "text/plain": [
       "   book_id_csv   book_id\n",
       "0            0  34684622\n",
       "1            1  34536488\n",
       "2            2  34017076\n",
       "3            3     71730\n",
       "4            4  30422361"
      ]
     },
     "execution_count": 63,
     "metadata": {},
     "output_type": "execute_result"
    }
   ],
   "source": [
    "book_id_map_id_csv = set(book_id_map[\"book_id_csv\"].unique())\n",
    "book_id_map_id = set(book_id_map[\"book_id\"].unique())\n",
    "print(min(book_id_map_id_csv))\n",
    "print(max(book_id_map_id_csv))\n",
    "print(len(book_id_map_id_csv))\n",
    "print(min(book_id_map_id))\n",
    "print(max(book_id_map_id))\n",
    "print(len(book_id_map_id))\n",
    "book_id_map.head()"
   ]
  },
  {
   "cell_type": "code",
   "execution_count": 7,
   "id": "timely-riding",
   "metadata": {},
   "outputs": [
    {
     "name": "stdout",
     "output_type": "stream",
     "text": [
      "104551549\n"
     ]
    }
   ],
   "source": [
    "interactions1 = pd.merge(interactions, book_id_map, on=\"book_id_csv\")\n",
    "print(len(interactions1))"
   ]
  },
  {
   "cell_type": "code",
   "execution_count": 9,
   "id": "attractive-assistant",
   "metadata": {},
   "outputs": [
    {
     "data": {
      "text/html": [
       "<div>\n",
       "<style scoped>\n",
       "    .dataframe tbody tr th:only-of-type {\n",
       "        vertical-align: middle;\n",
       "    }\n",
       "\n",
       "    .dataframe tbody tr th {\n",
       "        vertical-align: top;\n",
       "    }\n",
       "\n",
       "    .dataframe thead th {\n",
       "        text-align: right;\n",
       "    }\n",
       "</style>\n",
       "<table border=\"1\" class=\"dataframe\">\n",
       "  <thead>\n",
       "    <tr style=\"text-align: right;\">\n",
       "      <th></th>\n",
       "      <th>user_id</th>\n",
       "      <th>rating</th>\n",
       "      <th>book_id</th>\n",
       "    </tr>\n",
       "  </thead>\n",
       "  <tbody>\n",
       "    <tr>\n",
       "      <th>0</th>\n",
       "      <td>0</td>\n",
       "      <td>5</td>\n",
       "      <td>12</td>\n",
       "    </tr>\n",
       "    <tr>\n",
       "      <th>1</th>\n",
       "      <td>201</td>\n",
       "      <td>3</td>\n",
       "      <td>12</td>\n",
       "    </tr>\n",
       "    <tr>\n",
       "      <th>2</th>\n",
       "      <td>339</td>\n",
       "      <td>3</td>\n",
       "      <td>12</td>\n",
       "    </tr>\n",
       "    <tr>\n",
       "      <th>3</th>\n",
       "      <td>683</td>\n",
       "      <td>5</td>\n",
       "      <td>12</td>\n",
       "    </tr>\n",
       "    <tr>\n",
       "      <th>4</th>\n",
       "      <td>1872</td>\n",
       "      <td>3</td>\n",
       "      <td>12</td>\n",
       "    </tr>\n",
       "  </tbody>\n",
       "</table>\n",
       "</div>"
      ],
      "text/plain": [
       "   user_id  rating  book_id\n",
       "0        0       5       12\n",
       "1      201       3       12\n",
       "2      339       3       12\n",
       "3      683       5       12\n",
       "4     1872       3       12"
      ]
     },
     "execution_count": 9,
     "metadata": {},
     "output_type": "execute_result"
    }
   ],
   "source": [
    "interactions1 = interactions1.drop(['is_reviewed', 'is_read', 'book_id_csv'], axis=1)\n",
    "interactions1.head()"
   ]
  },
  {
   "cell_type": "code",
   "execution_count": 10,
   "id": "adolescent-flashing",
   "metadata": {},
   "outputs": [],
   "source": [
    "# ratings_full includes all rows for ratings > 0 even if is_reviewd flag is set to 0\n",
    "interactions1.to_csv(\"ratings_full.csv\")"
   ]
  },
  {
   "cell_type": "code",
   "execution_count": 77,
   "id": "genuine-traveler",
   "metadata": {},
   "outputs": [
    {
     "data": {
      "text/html": [
       "<div>\n",
       "<style scoped>\n",
       "    .dataframe tbody tr th:only-of-type {\n",
       "        vertical-align: middle;\n",
       "    }\n",
       "\n",
       "    .dataframe tbody tr th {\n",
       "        vertical-align: top;\n",
       "    }\n",
       "\n",
       "    .dataframe thead th {\n",
       "        text-align: right;\n",
       "    }\n",
       "</style>\n",
       "<table border=\"1\" class=\"dataframe\">\n",
       "  <thead>\n",
       "    <tr style=\"text-align: right;\">\n",
       "      <th></th>\n",
       "      <th>book_id_csv</th>\n",
       "      <th>book_id</th>\n",
       "    </tr>\n",
       "  </thead>\n",
       "  <tbody>\n",
       "    <tr>\n",
       "      <th>947</th>\n",
       "      <td>947</td>\n",
       "      <td>21</td>\n",
       "    </tr>\n",
       "  </tbody>\n",
       "</table>\n",
       "</div>"
      ],
      "text/plain": [
       "     book_id_csv  book_id\n",
       "947          947       21"
      ]
     },
     "execution_count": 77,
     "metadata": {},
     "output_type": "execute_result"
    }
   ],
   "source": [
    "book_id_map[book_id_map['book_id_csv'] == 947]"
   ]
  },
  {
   "cell_type": "code",
   "execution_count": 40,
   "id": "adequate-curtis",
   "metadata": {},
   "outputs": [
    {
     "name": "stdout",
     "output_type": "stream",
     "text": [
      "104551549\n",
      "104551549\n"
     ]
    },
    {
     "data": {
      "text/html": [
       "<div>\n",
       "<style scoped>\n",
       "    .dataframe tbody tr th:only-of-type {\n",
       "        vertical-align: middle;\n",
       "    }\n",
       "\n",
       "    .dataframe tbody tr th {\n",
       "        vertical-align: top;\n",
       "    }\n",
       "\n",
       "    .dataframe thead th {\n",
       "        text-align: right;\n",
       "    }\n",
       "</style>\n",
       "<table border=\"1\" class=\"dataframe\">\n",
       "  <thead>\n",
       "    <tr style=\"text-align: right;\">\n",
       "      <th></th>\n",
       "      <th>user_id</th>\n",
       "      <th>book_id_csv</th>\n",
       "      <th>is_read</th>\n",
       "      <th>rating</th>\n",
       "      <th>is_reviewed</th>\n",
       "    </tr>\n",
       "  </thead>\n",
       "  <tbody>\n",
       "    <tr>\n",
       "      <th>0</th>\n",
       "      <td>0</td>\n",
       "      <td>948</td>\n",
       "      <td>1</td>\n",
       "      <td>5</td>\n",
       "      <td>0</td>\n",
       "    </tr>\n",
       "    <tr>\n",
       "      <th>1</th>\n",
       "      <td>0</td>\n",
       "      <td>947</td>\n",
       "      <td>1</td>\n",
       "      <td>5</td>\n",
       "      <td>1</td>\n",
       "    </tr>\n",
       "    <tr>\n",
       "      <th>2</th>\n",
       "      <td>0</td>\n",
       "      <td>946</td>\n",
       "      <td>1</td>\n",
       "      <td>5</td>\n",
       "      <td>0</td>\n",
       "    </tr>\n",
       "    <tr>\n",
       "      <th>3</th>\n",
       "      <td>0</td>\n",
       "      <td>945</td>\n",
       "      <td>1</td>\n",
       "      <td>5</td>\n",
       "      <td>0</td>\n",
       "    </tr>\n",
       "    <tr>\n",
       "      <th>4</th>\n",
       "      <td>0</td>\n",
       "      <td>944</td>\n",
       "      <td>1</td>\n",
       "      <td>5</td>\n",
       "      <td>0</td>\n",
       "    </tr>\n",
       "  </tbody>\n",
       "</table>\n",
       "</div>"
      ],
      "text/plain": [
       "   user_id  book_id_csv  is_read  rating  is_reviewed\n",
       "0        0          948        1       5            0\n",
       "1        0          947        1       5            1\n",
       "2        0          946        1       5            0\n",
       "3        0          945        1       5            0\n",
       "4        0          944        1       5            0"
      ]
     },
     "execution_count": 40,
     "metadata": {},
     "output_type": "execute_result"
    }
   ],
   "source": [
    "print(len(interactions))\n",
    "print(len(interactions1))\n",
    "interactions1\n",
    "interactions.head()"
   ]
  },
  {
   "cell_type": "code",
   "execution_count": 124,
   "id": "informational-lithuania",
   "metadata": {},
   "outputs": [],
   "source": []
  },
  {
   "cell_type": "code",
   "execution_count": null,
   "id": "former-combination",
   "metadata": {},
   "outputs": [],
   "source": []
  }
 ],
 "metadata": {
  "kernelspec": {
   "display_name": "Python 3",
   "language": "python",
   "name": "python3"
  },
  "language_info": {
   "codemirror_mode": {
    "name": "ipython",
    "version": 3
   },
   "file_extension": ".py",
   "mimetype": "text/x-python",
   "name": "python",
   "nbconvert_exporter": "python",
   "pygments_lexer": "ipython3",
   "version": "3.7.4"
  }
 },
 "nbformat": 4,
 "nbformat_minor": 5
}
