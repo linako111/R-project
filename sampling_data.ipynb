{
 "cells": [
  {
   "cell_type": "code",
   "execution_count": 1,
   "id": "8fc19fa9",
   "metadata": {},
   "outputs": [],
   "source": [
    "import json\n",
    "import time\n",
    "import numpy as np\n",
    "import pandas as pd\n"
   ]
  },
  {
   "cell_type": "code",
   "execution_count": 71,
   "id": "suffering-pillow",
   "metadata": {},
   "outputs": [
    {
     "name": "stdout",
     "output_type": "stream",
     "text": [
      "79.27866196632385\n",
      "0\n",
      "2360649\n",
      "(228648342, 5)\n",
      "(15935237, 5)\n"
     ]
    }
   ],
   "source": [
    "fname = \"./goodreads_interactions.csv\"\n",
    "start = time.time()\n",
    "interactions = pd.read_csv(fname)\n",
    "\n",
    "interactions = interactions.rename(columns={\"book_id\":\"book_id_csv\"})\n",
    "print(time.time() - start)\n",
    "\n",
    "interactions_book_ids = set(interactions[\"book_id_csv\"].unique())\n",
    "\n",
    "print(min(interactions_book_ids))\n",
    "print(max(interactions_book_ids))\n",
    "print(interactions.shape)\n",
    "interactions = interactions[(interactions.is_read > 0) & (interactions.is_reviewed > 0)]\n",
    "print(interactions.shape)\n"
   ]
  },
  {
   "cell_type": "code",
   "execution_count": 49,
   "id": "7212bed3",
   "metadata": {},
   "outputs": [
    {
     "name": "stdout",
     "output_type": "stream",
     "text": [
      "120.06343722343445\n"
     ]
    }
   ],
   "source": [
    "fname = './goodreads_books.json'\n",
    "from io import StringIO\n",
    "from csv import writer \n",
    "\n",
    "output = StringIO()\n",
    "csv_writer = writer(output)\n",
    "i = 0\n",
    "bad = []\n",
    "start = time.time()\n",
    "f = open(fname)\n",
    "for line in f:\n",
    "    try:\n",
    "        s = json.loads(line)\n",
    "    except json.JSONDecodeError:\n",
    "        bad.append(line)\n",
    "        continue\n",
    "#     if(i % 100000 == 0):\n",
    "#         print(i)\n",
    "    book_id = s[\"book_id\"]\n",
    "    title = s['title']\n",
    "    authors = s['authors']\n",
    "    average_rating = s['average_rating']\n",
    "    image_url = s['image_url']\n",
    "    num_pages = s['num_pages']\n",
    "    publisher = s['publisher']\n",
    "    publication_year = s['publication_year']\n",
    "    ratings_count = s['ratings_count']\n",
    "    csv_writer.writerow([book_id, title, authors, average_rating, image_url, num_pages, publisher, publication_year, ratings_count])\n",
    "    i = i + 1\n",
    "\n",
    "output.seek(0) # we need to get back to the start of the BytesIO\n",
    "books = pd.read_csv(output, header=None)\n",
    "books.columns = ['book_id', 'title', 'authors', 'average_rating', 'image_url', 'num_pages', 'publisher', 'publication_year', 'ratings_count']\n",
    "f.close()\n",
    "books.to_csv(\"books.csv\")\n",
    "print(time.time() - start)\n"
   ]
  },
  {
   "cell_type": "code",
   "execution_count": 51,
   "id": "adjacent-ontario",
   "metadata": {},
   "outputs": [
    {
     "name": "stdout",
     "output_type": "stream",
     "text": [
      "0.3424811363220215\n"
     ]
    }
   ],
   "source": [
    "fname = \"./book_id_map.csv\"\n",
    "start = time.time()\n",
    "book_id_map = pd.read_csv(fname)\n",
    "print(time.time() - start)"
   ]
  },
  {
   "cell_type": "code",
   "execution_count": 60,
   "id": "partial-appraisal",
   "metadata": {},
   "outputs": [
    {
     "name": "stdout",
     "output_type": "stream",
     "text": [
      "1\n",
      "36530431\n",
      "2360655\n"
     ]
    },
    {
     "data": {
      "text/html": [
       "<div>\n",
       "<style scoped>\n",
       "    .dataframe tbody tr th:only-of-type {\n",
       "        vertical-align: middle;\n",
       "    }\n",
       "\n",
       "    .dataframe tbody tr th {\n",
       "        vertical-align: top;\n",
       "    }\n",
       "\n",
       "    .dataframe thead th {\n",
       "        text-align: right;\n",
       "    }\n",
       "</style>\n",
       "<table border=\"1\" class=\"dataframe\">\n",
       "  <thead>\n",
       "    <tr style=\"text-align: right;\">\n",
       "      <th></th>\n",
       "      <th>book_id</th>\n",
       "      <th>title</th>\n",
       "      <th>authors</th>\n",
       "      <th>average_rating</th>\n",
       "      <th>image_url</th>\n",
       "      <th>num_pages</th>\n",
       "      <th>publisher</th>\n",
       "      <th>publication_year</th>\n",
       "      <th>ratings_count</th>\n",
       "    </tr>\n",
       "  </thead>\n",
       "  <tbody>\n",
       "    <tr>\n",
       "      <th>0</th>\n",
       "      <td>5333265</td>\n",
       "      <td>W.C. Fields: A Life on Film</td>\n",
       "      <td>[{'author_id': '604031', 'role': ''}]</td>\n",
       "      <td>4.00</td>\n",
       "      <td>https://images.gr-assets.com/books/1310220028m...</td>\n",
       "      <td>256.0</td>\n",
       "      <td>St. Martin's Press</td>\n",
       "      <td>1984.0</td>\n",
       "      <td>3.0</td>\n",
       "    </tr>\n",
       "    <tr>\n",
       "      <th>1</th>\n",
       "      <td>1333909</td>\n",
       "      <td>Good Harbor</td>\n",
       "      <td>[{'author_id': '626222', 'role': ''}]</td>\n",
       "      <td>3.23</td>\n",
       "      <td>https://s.gr-assets.com/assets/nophoto/book/11...</td>\n",
       "      <td>NaN</td>\n",
       "      <td>Simon &amp; Schuster Audio</td>\n",
       "      <td>2001.0</td>\n",
       "      <td>10.0</td>\n",
       "    </tr>\n",
       "    <tr>\n",
       "      <th>2</th>\n",
       "      <td>7327624</td>\n",
       "      <td>The Unschooled Wizard (Sun Wolf and Starhawk, ...</td>\n",
       "      <td>[{'author_id': '10333', 'role': ''}]</td>\n",
       "      <td>4.03</td>\n",
       "      <td>https://images.gr-assets.com/books/1304100136m...</td>\n",
       "      <td>600.0</td>\n",
       "      <td>Nelson Doubleday, Inc.</td>\n",
       "      <td>1987.0</td>\n",
       "      <td>140.0</td>\n",
       "    </tr>\n",
       "    <tr>\n",
       "      <th>3</th>\n",
       "      <td>6066819</td>\n",
       "      <td>Best Friends Forever</td>\n",
       "      <td>[{'author_id': '9212', 'role': ''}]</td>\n",
       "      <td>3.49</td>\n",
       "      <td>https://s.gr-assets.com/assets/nophoto/book/11...</td>\n",
       "      <td>368.0</td>\n",
       "      <td>Atria Books</td>\n",
       "      <td>2009.0</td>\n",
       "      <td>51184.0</td>\n",
       "    </tr>\n",
       "    <tr>\n",
       "      <th>4</th>\n",
       "      <td>287140</td>\n",
       "      <td>Runic Astrology: Starcraft and Timekeeping in ...</td>\n",
       "      <td>[{'author_id': '149918', 'role': ''}]</td>\n",
       "      <td>3.40</td>\n",
       "      <td>https://images.gr-assets.com/books/1413219371m...</td>\n",
       "      <td>NaN</td>\n",
       "      <td>NaN</td>\n",
       "      <td>NaN</td>\n",
       "      <td>15.0</td>\n",
       "    </tr>\n",
       "  </tbody>\n",
       "</table>\n",
       "</div>"
      ],
      "text/plain": [
       "   book_id                                              title  \\\n",
       "0  5333265                        W.C. Fields: A Life on Film   \n",
       "1  1333909                                        Good Harbor   \n",
       "2  7327624  The Unschooled Wizard (Sun Wolf and Starhawk, ...   \n",
       "3  6066819                               Best Friends Forever   \n",
       "4   287140  Runic Astrology: Starcraft and Timekeeping in ...   \n",
       "\n",
       "                                 authors  average_rating  \\\n",
       "0  [{'author_id': '604031', 'role': ''}]            4.00   \n",
       "1  [{'author_id': '626222', 'role': ''}]            3.23   \n",
       "2   [{'author_id': '10333', 'role': ''}]            4.03   \n",
       "3    [{'author_id': '9212', 'role': ''}]            3.49   \n",
       "4  [{'author_id': '149918', 'role': ''}]            3.40   \n",
       "\n",
       "                                           image_url  num_pages  \\\n",
       "0  https://images.gr-assets.com/books/1310220028m...      256.0   \n",
       "1  https://s.gr-assets.com/assets/nophoto/book/11...        NaN   \n",
       "2  https://images.gr-assets.com/books/1304100136m...      600.0   \n",
       "3  https://s.gr-assets.com/assets/nophoto/book/11...      368.0   \n",
       "4  https://images.gr-assets.com/books/1413219371m...        NaN   \n",
       "\n",
       "                publisher  publication_year  ratings_count  \n",
       "0      St. Martin's Press            1984.0            3.0  \n",
       "1  Simon & Schuster Audio            2001.0           10.0  \n",
       "2  Nelson Doubleday, Inc.            1987.0          140.0  \n",
       "3             Atria Books            2009.0        51184.0  \n",
       "4                     NaN               NaN           15.0  "
      ]
     },
     "execution_count": 60,
     "metadata": {},
     "output_type": "execute_result"
    }
   ],
   "source": [
    "books_book_ids = set(books[\"book_id\"].unique())\n",
    "print(min(books_book_ids))\n",
    "print(max(books_book_ids))\n",
    "print(len(books_book_ids))\n",
    "books.head()"
   ]
  },
  {
   "cell_type": "code",
   "execution_count": 73,
   "id": "confidential-hydrogen",
   "metadata": {},
   "outputs": [
    {
     "name": "stdout",
     "output_type": "stream",
     "text": [
      "0\n",
      "2360649\n",
      "2318599\n"
     ]
    },
    {
     "data": {
      "text/html": [
       "<div>\n",
       "<style scoped>\n",
       "    .dataframe tbody tr th:only-of-type {\n",
       "        vertical-align: middle;\n",
       "    }\n",
       "\n",
       "    .dataframe tbody tr th {\n",
       "        vertical-align: top;\n",
       "    }\n",
       "\n",
       "    .dataframe thead th {\n",
       "        text-align: right;\n",
       "    }\n",
       "</style>\n",
       "<table border=\"1\" class=\"dataframe\">\n",
       "  <thead>\n",
       "    <tr style=\"text-align: right;\">\n",
       "      <th></th>\n",
       "      <th>user_id</th>\n",
       "      <th>book_id_csv</th>\n",
       "      <th>is_read</th>\n",
       "      <th>rating</th>\n",
       "      <th>is_reviewed</th>\n",
       "    </tr>\n",
       "  </thead>\n",
       "  <tbody>\n",
       "    <tr>\n",
       "      <th>1</th>\n",
       "      <td>0</td>\n",
       "      <td>947</td>\n",
       "      <td>1</td>\n",
       "      <td>5</td>\n",
       "      <td>1</td>\n",
       "    </tr>\n",
       "    <tr>\n",
       "      <th>9</th>\n",
       "      <td>0</td>\n",
       "      <td>939</td>\n",
       "      <td>1</td>\n",
       "      <td>5</td>\n",
       "      <td>1</td>\n",
       "    </tr>\n",
       "    <tr>\n",
       "      <th>10</th>\n",
       "      <td>0</td>\n",
       "      <td>938</td>\n",
       "      <td>1</td>\n",
       "      <td>5</td>\n",
       "      <td>1</td>\n",
       "    </tr>\n",
       "    <tr>\n",
       "      <th>14</th>\n",
       "      <td>0</td>\n",
       "      <td>934</td>\n",
       "      <td>1</td>\n",
       "      <td>5</td>\n",
       "      <td>1</td>\n",
       "    </tr>\n",
       "    <tr>\n",
       "      <th>18</th>\n",
       "      <td>0</td>\n",
       "      <td>930</td>\n",
       "      <td>1</td>\n",
       "      <td>2</td>\n",
       "      <td>1</td>\n",
       "    </tr>\n",
       "  </tbody>\n",
       "</table>\n",
       "</div>"
      ],
      "text/plain": [
       "    user_id  book_id_csv  is_read  rating  is_reviewed\n",
       "1         0          947        1       5            1\n",
       "9         0          939        1       5            1\n",
       "10        0          938        1       5            1\n",
       "14        0          934        1       5            1\n",
       "18        0          930        1       2            1"
      ]
     },
     "execution_count": 73,
     "metadata": {},
     "output_type": "execute_result"
    }
   ],
   "source": [
    "interactions_book_ids = set(interactions[\"book_id_csv\"].unique())\n",
    "print(min(interactions_book_ids))\n",
    "print(max(interactions_book_ids))\n",
    "print(len(interactions_book_ids))\n",
    "interactions.head()"
   ]
  },
  {
   "cell_type": "code",
   "execution_count": 63,
   "id": "collectible-vocabulary",
   "metadata": {},
   "outputs": [
    {
     "name": "stdout",
     "output_type": "stream",
     "text": [
      "0\n",
      "2360649\n",
      "2360650\n",
      "1\n",
      "36530431\n",
      "2360650\n"
     ]
    },
    {
     "data": {
      "text/html": [
       "<div>\n",
       "<style scoped>\n",
       "    .dataframe tbody tr th:only-of-type {\n",
       "        vertical-align: middle;\n",
       "    }\n",
       "\n",
       "    .dataframe tbody tr th {\n",
       "        vertical-align: top;\n",
       "    }\n",
       "\n",
       "    .dataframe thead th {\n",
       "        text-align: right;\n",
       "    }\n",
       "</style>\n",
       "<table border=\"1\" class=\"dataframe\">\n",
       "  <thead>\n",
       "    <tr style=\"text-align: right;\">\n",
       "      <th></th>\n",
       "      <th>book_id_csv</th>\n",
       "      <th>book_id</th>\n",
       "    </tr>\n",
       "  </thead>\n",
       "  <tbody>\n",
       "    <tr>\n",
       "      <th>0</th>\n",
       "      <td>0</td>\n",
       "      <td>34684622</td>\n",
       "    </tr>\n",
       "    <tr>\n",
       "      <th>1</th>\n",
       "      <td>1</td>\n",
       "      <td>34536488</td>\n",
       "    </tr>\n",
       "    <tr>\n",
       "      <th>2</th>\n",
       "      <td>2</td>\n",
       "      <td>34017076</td>\n",
       "    </tr>\n",
       "    <tr>\n",
       "      <th>3</th>\n",
       "      <td>3</td>\n",
       "      <td>71730</td>\n",
       "    </tr>\n",
       "    <tr>\n",
       "      <th>4</th>\n",
       "      <td>4</td>\n",
       "      <td>30422361</td>\n",
       "    </tr>\n",
       "  </tbody>\n",
       "</table>\n",
       "</div>"
      ],
      "text/plain": [
       "   book_id_csv   book_id\n",
       "0            0  34684622\n",
       "1            1  34536488\n",
       "2            2  34017076\n",
       "3            3     71730\n",
       "4            4  30422361"
      ]
     },
     "execution_count": 63,
     "metadata": {},
     "output_type": "execute_result"
    }
   ],
   "source": [
    "book_id_map_id_csv = set(book_id_map[\"book_id_csv\"].unique())\n",
    "book_id_map_id = set(book_id_map[\"book_id\"].unique())\n",
    "print(min(book_id_map_id_csv))\n",
    "print(max(book_id_map_id_csv))\n",
    "print(len(book_id_map_id_csv))\n",
    "print(min(book_id_map_id))\n",
    "print(max(book_id_map_id))\n",
    "print(len(book_id_map_id))\n",
    "book_id_map.head()"
   ]
  },
  {
   "cell_type": "code",
   "execution_count": 74,
   "id": "timely-riding",
   "metadata": {},
   "outputs": [],
   "source": [
    "interactions1 = pd.merge(interactions, book_id_map, on=\"book_id_csv\")"
   ]
  },
  {
   "cell_type": "code",
   "execution_count": 123,
   "id": "adolescent-flashing",
   "metadata": {},
   "outputs": [],
   "source": [
    "interactions1.to_csv(\"ratings.csv\")"
   ]
  },
  {
   "cell_type": "code",
   "execution_count": 77,
   "id": "genuine-traveler",
   "metadata": {},
   "outputs": [
    {
     "data": {
      "text/html": [
       "<div>\n",
       "<style scoped>\n",
       "    .dataframe tbody tr th:only-of-type {\n",
       "        vertical-align: middle;\n",
       "    }\n",
       "\n",
       "    .dataframe tbody tr th {\n",
       "        vertical-align: top;\n",
       "    }\n",
       "\n",
       "    .dataframe thead th {\n",
       "        text-align: right;\n",
       "    }\n",
       "</style>\n",
       "<table border=\"1\" class=\"dataframe\">\n",
       "  <thead>\n",
       "    <tr style=\"text-align: right;\">\n",
       "      <th></th>\n",
       "      <th>book_id_csv</th>\n",
       "      <th>book_id</th>\n",
       "    </tr>\n",
       "  </thead>\n",
       "  <tbody>\n",
       "    <tr>\n",
       "      <th>947</th>\n",
       "      <td>947</td>\n",
       "      <td>21</td>\n",
       "    </tr>\n",
       "  </tbody>\n",
       "</table>\n",
       "</div>"
      ],
      "text/plain": [
       "     book_id_csv  book_id\n",
       "947          947       21"
      ]
     },
     "execution_count": 77,
     "metadata": {},
     "output_type": "execute_result"
    }
   ],
   "source": [
    "book_id_map[book_id_map['book_id_csv'] == 947]"
   ]
  },
  {
   "cell_type": "code",
   "execution_count": 80,
   "id": "adequate-curtis",
   "metadata": {},
   "outputs": [
    {
     "name": "stdout",
     "output_type": "stream",
     "text": [
      "15935237\n",
      "15935237\n"
     ]
    },
    {
     "data": {
      "text/html": [
       "<div>\n",
       "<style scoped>\n",
       "    .dataframe tbody tr th:only-of-type {\n",
       "        vertical-align: middle;\n",
       "    }\n",
       "\n",
       "    .dataframe tbody tr th {\n",
       "        vertical-align: top;\n",
       "    }\n",
       "\n",
       "    .dataframe thead th {\n",
       "        text-align: right;\n",
       "    }\n",
       "</style>\n",
       "<table border=\"1\" class=\"dataframe\">\n",
       "  <thead>\n",
       "    <tr style=\"text-align: right;\">\n",
       "      <th></th>\n",
       "      <th>user_id</th>\n",
       "      <th>book_id_csv</th>\n",
       "      <th>is_read</th>\n",
       "      <th>rating</th>\n",
       "      <th>is_reviewed</th>\n",
       "      <th>book_id</th>\n",
       "    </tr>\n",
       "  </thead>\n",
       "  <tbody>\n",
       "    <tr>\n",
       "      <th>0</th>\n",
       "      <td>0</td>\n",
       "      <td>947</td>\n",
       "      <td>1</td>\n",
       "      <td>5</td>\n",
       "      <td>1</td>\n",
       "      <td>21</td>\n",
       "    </tr>\n",
       "    <tr>\n",
       "      <th>1</th>\n",
       "      <td>311</td>\n",
       "      <td>947</td>\n",
       "      <td>1</td>\n",
       "      <td>2</td>\n",
       "      <td>1</td>\n",
       "      <td>21</td>\n",
       "    </tr>\n",
       "    <tr>\n",
       "      <th>2</th>\n",
       "      <td>373</td>\n",
       "      <td>947</td>\n",
       "      <td>1</td>\n",
       "      <td>2</td>\n",
       "      <td>1</td>\n",
       "      <td>21</td>\n",
       "    </tr>\n",
       "    <tr>\n",
       "      <th>3</th>\n",
       "      <td>887</td>\n",
       "      <td>947</td>\n",
       "      <td>1</td>\n",
       "      <td>5</td>\n",
       "      <td>1</td>\n",
       "      <td>21</td>\n",
       "    </tr>\n",
       "    <tr>\n",
       "      <th>4</th>\n",
       "      <td>1192</td>\n",
       "      <td>947</td>\n",
       "      <td>1</td>\n",
       "      <td>3</td>\n",
       "      <td>1</td>\n",
       "      <td>21</td>\n",
       "    </tr>\n",
       "    <tr>\n",
       "      <th>...</th>\n",
       "      <td>...</td>\n",
       "      <td>...</td>\n",
       "      <td>...</td>\n",
       "      <td>...</td>\n",
       "      <td>...</td>\n",
       "      <td>...</td>\n",
       "    </tr>\n",
       "    <tr>\n",
       "      <th>15935232</th>\n",
       "      <td>876136</td>\n",
       "      <td>2360592</td>\n",
       "      <td>1</td>\n",
       "      <td>5</td>\n",
       "      <td>1</td>\n",
       "      <td>36110583</td>\n",
       "    </tr>\n",
       "    <tr>\n",
       "      <th>15935233</th>\n",
       "      <td>876136</td>\n",
       "      <td>2360591</td>\n",
       "      <td>1</td>\n",
       "      <td>5</td>\n",
       "      <td>1</td>\n",
       "      <td>36110839</td>\n",
       "    </tr>\n",
       "    <tr>\n",
       "      <th>15935234</th>\n",
       "      <td>876136</td>\n",
       "      <td>2360590</td>\n",
       "      <td>1</td>\n",
       "      <td>5</td>\n",
       "      <td>1</td>\n",
       "      <td>36110997</td>\n",
       "    </tr>\n",
       "    <tr>\n",
       "      <th>15935235</th>\n",
       "      <td>876136</td>\n",
       "      <td>2360589</td>\n",
       "      <td>1</td>\n",
       "      <td>5</td>\n",
       "      <td>1</td>\n",
       "      <td>36217419</td>\n",
       "    </tr>\n",
       "    <tr>\n",
       "      <th>15935236</th>\n",
       "      <td>876136</td>\n",
       "      <td>2360588</td>\n",
       "      <td>1</td>\n",
       "      <td>5</td>\n",
       "      <td>1</td>\n",
       "      <td>36217772</td>\n",
       "    </tr>\n",
       "  </tbody>\n",
       "</table>\n",
       "<p>15935237 rows × 6 columns</p>\n",
       "</div>"
      ],
      "text/plain": [
       "          user_id  book_id_csv  is_read  rating  is_reviewed   book_id\n",
       "0               0          947        1       5            1        21\n",
       "1             311          947        1       2            1        21\n",
       "2             373          947        1       2            1        21\n",
       "3             887          947        1       5            1        21\n",
       "4            1192          947        1       3            1        21\n",
       "...           ...          ...      ...     ...          ...       ...\n",
       "15935232   876136      2360592        1       5            1  36110583\n",
       "15935233   876136      2360591        1       5            1  36110839\n",
       "15935234   876136      2360590        1       5            1  36110997\n",
       "15935235   876136      2360589        1       5            1  36217419\n",
       "15935236   876136      2360588        1       5            1  36217772\n",
       "\n",
       "[15935237 rows x 6 columns]"
      ]
     },
     "execution_count": 80,
     "metadata": {},
     "output_type": "execute_result"
    }
   ],
   "source": [
    "print(len(interactions))\n",
    "print(len(interactions1))\n",
    "interactions1"
   ]
  },
  {
   "cell_type": "code",
   "execution_count": 110,
   "id": "c1a22397",
   "metadata": {},
   "outputs": [
    {
     "name": "stdout",
     "output_type": "stream",
     "text": [
      "[{'author_id': '604031', 'role': ''}, {'author_id': '604032', 'role': ''}]\n"
     ]
    },
    {
     "data": {
      "text/plain": [
       "[\"{'author_id': '604031', 'role': ''}\",\n",
       " \" {'author_id': '604032', 'role': ''}}\"]"
      ]
     },
     "execution_count": 110,
     "metadata": {},
     "output_type": "execute_result"
    }
   ],
   "source": [
    "# len(books['authors']) > 0\n",
    "books['authors'].str.len()\n",
    "# books['authors'] = books['authors'].apply(lambda x: x.strip('][').split('},'))\n",
    "books['authors'] = books['authors'].apply(lambda x: [str(y) + '}' for y in x])\n",
    "# books['authors'] = \n",
    "books.dtypes\n",
    "str1 = books.iat[0, books.columns.get_loc('authors')]\n",
    "str1 = \"[{'author_id': '604031', 'role': ''}, {'author_id': '604032', 'role': ''}]\"\n",
    "\n",
    "print(str1)\n",
    "res = str1.strip('][').split('},')\n",
    "[str(x) + '}' for x in res]"
   ]
  },
  {
   "cell_type": "code",
   "execution_count": 108,
   "id": "wireless-princeton",
   "metadata": {},
   "outputs": [
    {
     "name": "stdout",
     "output_type": "stream",
     "text": [
      "<class 'list'>\n"
     ]
    }
   ],
   "source": [
    "print (type(books.iat[0, books.columns.get_loc('authors')]))"
   ]
  },
  {
   "cell_type": "code",
   "execution_count": 122,
   "id": "functional-analysis",
   "metadata": {},
   "outputs": [
    {
     "data": {
      "text/plain": [
       "\"{'author_id': '4015', 'role': ''}\""
      ]
     },
     "execution_count": 122,
     "metadata": {},
     "output_type": "execute_result"
    }
   ],
   "source": [
    "books.iloc[2360650][\"authors\"][0]"
   ]
  },
  {
   "cell_type": "code",
   "execution_count": 124,
   "id": "informational-lithuania",
   "metadata": {},
   "outputs": [],
   "source": []
  },
  {
   "cell_type": "code",
   "execution_count": null,
   "id": "former-combination",
   "metadata": {},
   "outputs": [],
   "source": []
  }
 ],
 "metadata": {
  "kernelspec": {
   "display_name": "Python 3",
   "language": "python",
   "name": "python3"
  },
  "language_info": {
   "codemirror_mode": {
    "name": "ipython",
    "version": 3
   },
   "file_extension": ".py",
   "mimetype": "text/x-python",
   "name": "python",
   "nbconvert_exporter": "python",
   "pygments_lexer": "ipython3",
   "version": "3.7.4"
  }
 },
 "nbformat": 4,
 "nbformat_minor": 5
}
